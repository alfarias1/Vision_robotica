{
 "cells": [
  {
   "cell_type": "markdown",
   "metadata": {
    "slideshow": {
     "slide_type": "slide"
    }
   },
   "source": [
    "# Trabajo Practico Nº 1\n",
    "\n",
    "Segmentación de arandelas por color"
   ]
  },
  {
   "cell_type": "code",
   "execution_count": 62,
   "metadata": {},
   "outputs": [],
   "source": [
    "%matplotlib qt\n",
    "\n",
    "import numpy as np\n",
    "import cv2 as cv\n",
    "import matplotlib.pyplot as plt"
   ]
  },
  {
   "cell_type": "code",
   "execution_count": 66,
   "metadata": {},
   "outputs": [],
   "source": [
    "# Cargar la imagen color\n",
    "img_color = cv.imread('arandelas.png')\n",
    "imgRGB = cv.cvtColor(img_color, cv.COLOR_BGR2RGB)   \n",
    "\n",
    "plt.figure(\"Imagen de arandelas\")\n",
    "plt.imshow(imgRGB)\n",
    "plt.show()"
   ]
  },
  {
   "cell_type": "markdown",
   "metadata": {},
   "source": [
    "Modelo estadistico para cada arandela"
   ]
  },
  {
   "cell_type": "code",
   "execution_count": 67,
   "metadata": {},
   "outputs": [
    {
     "name": "stdout",
     "output_type": "stream",
     "text": [
      "Media rgb_Rojo: [154.61224489795916, 64.64285714285714, 74.95918367346938]\n",
      "Desvio rgb_Rojo: [5.768727538150931, 7.960681439399033, 7.989685145321188]\n",
      "Media rgb_Naranja: [183.85882352941175, 112.76470588235294, 58.84705882352941]\n",
      "Desvio rgb_Naranja: [4.579116126314546, 4.697050535923887, 4.651390386320173]\n",
      "Media rgb_Azul: [43.125, 58.5, 159.60714285714286]\n",
      "Desvio rgb_Azul: [9.503876088958943, 9.383686451953256, 9.49657564491483]\n",
      "Media rgb_Turquesa: [38.22222222222222, 99.25396825396825, 190.2222222222222]\n",
      "Desvio rgb_Turquesa: [14.142634455696111, 14.507762841515486, 12.517219180557493]\n"
     ]
    }
   ],
   "source": [
    "# Calculamos un modelo estadístico para caracterizar el color de las arandelas\n",
    "\n",
    "# arandela roja en el espacio RGB\n",
    "img_muestra = imgRGB[276:290, 319:326,:]\n",
    "plt.figure(\"Muestra Roja\")\n",
    "plt.imshow(img_muestra)\n",
    "plt.show()\n",
    "\n",
    "color_mean_r, color_std_r = cv.meanStdDev(img_muestra)\n",
    "print(f'Media rgb_Rojo: {color_mean_r.flatten().tolist()}')\n",
    "print(f'Desvio rgb_Rojo: {color_std_r.flatten().tolist()}')\n",
    "\n",
    "# Tomamos una muestra del arandela naranja\n",
    "img_muestra = imgRGB[212:229, 365:370,:]\n",
    "color_mean_n, color_std_n = cv.meanStdDev(img_muestra)\n",
    "print(f'Media rgb_Naranja: {color_mean_n.flatten().tolist()}')\n",
    "print(f'Desvio rgb_Naranja: {color_std_n.flatten().tolist()}')\n",
    "plt.figure(\"Muestra Naranja\")\n",
    "plt.imshow(img_muestra)\n",
    "plt.show()\n",
    "\n",
    "# Tomamos una muestra del arandela Azul\n",
    "img_muestra = imgRGB[324:338, 186:194,:]\n",
    "color_mean_blue, color_std_blue = cv.meanStdDev(img_muestra)\n",
    "print(f'Media rgb_Azul: {color_mean_blue.flatten().tolist()}')\n",
    "print(f'Desvio rgb_Azul: {color_std_blue.flatten().tolist()}')\n",
    "plt.figure(\"Muestra Azul\")\n",
    "plt.imshow(img_muestra)\n",
    "plt.show()\n",
    "\n",
    "# Tomamos una muestra del arandela turqueza\n",
    "img_muestra = imgRGB[356:365, 305:312,:]\n",
    "color_mean_tur, color_std_tur = cv.meanStdDev(img_muestra)\n",
    "print(f'Media rgb_Turquesa: {color_mean_tur.flatten().tolist()}')\n",
    "print(f'Desvio rgb_Turquesa: {color_std_tur.flatten().tolist()}')\n",
    "plt.figure(\"Muestra Turqueza\")\n",
    "plt.imshow(img_muestra)\n",
    "plt.show()\n",
    "\n"
   ]
  },
  {
   "cell_type": "code",
   "execution_count": 65,
   "metadata": {},
   "outputs": [
    {
     "data": {
      "text/plain": [
       "<function matplotlib.pyplot.show(*, block=None)>"
      ]
     },
     "execution_count": 65,
     "metadata": {},
     "output_type": "execute_result"
    }
   ],
   "source": [
    "# Identificamos los puntos que estén cerca de la media en un radio menor \n",
    "# que 3 sigmas para ¨capturar¨ el 99.7 % de pixeles.\n",
    "n_sigma = 3\n",
    "mask = cv.inRange(\n",
    "    imgRGB, color_mean_r-color_std_r * n_sigma,  color_mean_r + color_std_r * n_sigma)\n",
    "img_segmentada_roja = cv.bitwise_and(imgRGB, imgRGB, mask=mask)\n",
    "plt.figure(\"Segmentación de arandelas rojas\")\n",
    "plt.imshow(img_segmentada_roja)\n",
    "plt.show()\n",
    "\n",
    "mask = cv.inRange(\n",
    "    imgRGB, color_mean_n-color_std_n * n_sigma,  color_mean_n + color_std_n * n_sigma)\n",
    "img_segmentada_naranja = cv.bitwise_and(imgRGB, imgRGB, mask=mask)\n",
    "\n",
    "plt.figure(\"Segmentación de arandelas naranjas\")\n",
    "plt.imshow(img_segmentada_naranja)\n",
    "plt.show()\n",
    "\n",
    "\n",
    "mask = cv.inRange(\n",
    "    imgRGB, color_mean_blue-color_std_blue * n_sigma,  color_mean_blue + color_std_blue * n_sigma)\n",
    "img_segmentada_azul = cv.bitwise_and(imgRGB, imgRGB, mask=mask)\n",
    "\n",
    "plt.figure(\"Segmentación de arandelas azul\")\n",
    "plt.imshow(img_segmentada_azul)\n",
    "plt.show()\n",
    "\n",
    "mask = cv.inRange(\n",
    "    imgRGB, color_mean_tur-color_std_tur * n_sigma,  color_mean_tur + color_std_tur * n_sigma)\n",
    "img_segmentada_tur = cv.bitwise_and(imgRGB, imgRGB, mask=mask)\n",
    "\n",
    "plt.figure(\"Segmentación de arandelas turquesa\")\n",
    "plt.imshow(img_segmentada_tur)\n",
    "plt.show()\n",
    "\n",
    "\n",
    "#img_suma = cv.add (img_segmentada_roja, img_segmentada_naranja, img_segmentada_azul)\n",
    "img_suma = img_segmentada_roja + img_segmentada_naranja + img_segmentada_azul + img_segmentada_tur\n",
    "plt.figure(\"Suma de las segmentaciones\")\n",
    "plt.imshow(img_suma)\n",
    "plt.show\n"
   ]
  }
 ],
 "metadata": {
  "kernelspec": {
   "display_name": "vision",
   "language": "python",
   "name": "python3"
  },
  "language_info": {
   "codemirror_mode": {
    "name": "ipython",
    "version": 3
   },
   "file_extension": ".py",
   "mimetype": "text/x-python",
   "name": "python",
   "nbconvert_exporter": "python",
   "pygments_lexer": "ipython3",
   "version": "3.8.20"
  }
 },
 "nbformat": 4,
 "nbformat_minor": 2
}
